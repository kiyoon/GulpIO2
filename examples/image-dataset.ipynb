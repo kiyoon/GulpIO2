{
 "cells": [
  {
   "cell_type": "code",
   "execution_count": 11,
   "metadata": {},
   "outputs": [],
   "source": [
    "from pathlib import Path\n",
    "\n",
    "from gulpio2 import GulpDirectory\n",
    "import numpy as np\n",
    "import PIL.Image\n",
    "from gulpio2.utils import img_to_jpeg_bytes"
   ]
  },
  {
   "cell_type": "markdown",
   "metadata": {},
   "source": [
    "First we'll generate some random images and save them to disk to emulate having a real dataset."
   ]
  },
  {
   "cell_type": "code",
   "execution_count": 12,
   "metadata": {},
   "outputs": [],
   "source": [
    "n_images = 100\n",
    "assert n_images % 10 == 0\n",
    "images = np.random.randint(0, 255, (n_images, 224, 224, 3), dtype=np.uint8)\n",
    "labels = np.repeat(np.arange(n_images // 10), n_images // 10)"
   ]
  },
  {
   "cell_type": "code",
   "execution_count": 13,
   "metadata": {},
   "outputs": [],
   "source": [
    "for i, (img, label) in enumerate(zip(images, labels)):\n",
    "    img_path = Path(f\"fake-dataset/{label}/{i}.jpg\")\n",
    "    img_path.parent.mkdir(exist_ok=True, parents=True)\n",
    "    with img_path.open(\"wb\") as f:\n",
    "        f.write(img_to_jpeg_bytes(img))"
   ]
  },
  {
   "cell_type": "code",
   "execution_count": 14,
   "metadata": {},
   "outputs": [
    {
     "name": "stdout",
     "output_type": "stream",
     "text": [
      "\u001b[34mfake-dataset\u001b[00m\n",
      "├── \u001b[34m0\u001b[00m\n",
      "│   ├── \u001b[33m0.jpg\u001b[00m\n",
      "│   ├── \u001b[33m1.jpg\u001b[00m\n",
      "│   ├── \u001b[33m2.jpg\u001b[00m\n",
      "│   ├── \u001b[33m3.jpg\u001b[00m\n",
      "│   ├── \u001b[33m4.jpg\u001b[00m\n",
      "│   ├── \u001b[33m5.jpg\u001b[00m\n",
      "│   ├── \u001b[33m6.jpg\u001b[00m\n",
      "│   ├── \u001b[33m7.jpg\u001b[00m\n",
      "│   ├── \u001b[33m8.jpg\u001b[00m\n",
      "│   └── \u001b[33m9.jpg\u001b[00m\n",
      "├── \u001b[34m1\u001b[00m\n",
      "│   ├── \u001b[33m10.jpg\u001b[00m\n",
      "│   ├── \u001b[33m11.jpg\u001b[00m\n",
      "│   ├── \u001b[33m12.jpg\u001b[00m\n",
      "│   ├── \u001b[33m13.jpg\u001b[00m\n",
      "│   ├── \u001b[33m14.jpg\u001b[00m\n",
      "│   ├── \u001b[33m15.jpg\u001b[00m\n",
      "│   ├── \u001b[33m16.jpg\u001b[00m\n",
      "│   ├── \u001b[33m17.jpg\u001b[00m\n",
      "│   ├── \u001b[33m18.jpg\u001b[00m\n",
      "│   └── \u001b[33m19.jpg\u001b[00m\n",
      "├── \u001b[34m2\u001b[00m\n",
      "│   ├── \u001b[33m20.jpg\u001b[00m\n",
      "│   ├── \u001b[33m21.jpg\u001b[00m\n",
      "│   ├── \u001b[33m22.jpg\u001b[00m\n",
      "│   ├── \u001b[33m23.jpg\u001b[00m\n",
      "│   ├── \u001b[33m24.jpg\u001b[00m\n",
      "│   ├── \u001b[33m25.jpg\u001b[00m\n",
      "│   ├── \u001b[33m26.jpg\u001b[00m\n",
      "│   ├── \u001b[33m27.jpg\u001b[00m\n",
      "│   ├── \u001b[33m28.jpg\u001b[00m\n",
      "│   └── \u001b[33m29.jpg\u001b[00m\n",
      "├── \u001b[34m3\u001b[00m\n",
      "│   ├── \u001b[33m30.jpg\u001b[00m\n",
      "│   ├── \u001b[33m31.jpg\u001b[00m\n",
      "│   ├── \u001b[33m32.jpg\u001b[00m\n",
      "│   ├── \u001b[33m33.jpg\u001b[00m\n",
      "│   ├── \u001b[33m34.jpg\u001b[00m\n",
      "│   ├── \u001b[33m35.jpg\u001b[00m\n",
      "│   ├── \u001b[33m36.jpg\u001b[00m\n",
      "│   ├── \u001b[33m37.jpg\u001b[00m\n",
      "│   ├── \u001b[33m38.jpg\u001b[00m\n",
      "│   └── \u001b[33m39.jpg\u001b[00m\n",
      "├── \u001b[34m4\u001b[00m\n",
      "│   ├── \u001b[33m40.jpg\u001b[00m\n",
      "│   ├── \u001b[33m41.jpg\u001b[00m\n",
      "│   ├── \u001b[33m42.jpg\u001b[00m\n",
      "│   ├── \u001b[33m43.jpg\u001b[00m\n",
      "│   ├── \u001b[33m44.jpg\u001b[00m\n",
      "│   ├── \u001b[33m45.jpg\u001b[00m\n",
      "│   ├── \u001b[33m46.jpg\u001b[00m\n",
      "│   ├── \u001b[33m47.jpg\u001b[00m\n",
      "│   ├── \u001b[33m48.jpg\u001b[00m\n",
      "│   └── \u001b[33m49.jpg\u001b[00m\n",
      "├── \u001b[34m5\u001b[00m\n",
      "│   ├── \u001b[33m50.jpg\u001b[00m\n",
      "│   ├── \u001b[33m51.jpg\u001b[00m\n",
      "│   ├── \u001b[33m52.jpg\u001b[00m\n",
      "│   ├── \u001b[33m53.jpg\u001b[00m\n",
      "│   ├── \u001b[33m54.jpg\u001b[00m\n",
      "│   ├── \u001b[33m55.jpg\u001b[00m\n",
      "│   ├── \u001b[33m56.jpg\u001b[00m\n",
      "│   ├── \u001b[33m57.jpg\u001b[00m\n",
      "│   ├── \u001b[33m58.jpg\u001b[00m\n",
      "│   └── \u001b[33m59.jpg\u001b[00m\n",
      "├── \u001b[34m6\u001b[00m\n",
      "│   ├── \u001b[33m60.jpg\u001b[00m\n",
      "│   ├── \u001b[33m61.jpg\u001b[00m\n",
      "│   ├── \u001b[33m62.jpg\u001b[00m\n",
      "│   ├── \u001b[33m63.jpg\u001b[00m\n",
      "│   ├── \u001b[33m64.jpg\u001b[00m\n",
      "│   ├── \u001b[33m65.jpg\u001b[00m\n",
      "│   ├── \u001b[33m66.jpg\u001b[00m\n",
      "│   ├── \u001b[33m67.jpg\u001b[00m\n",
      "│   ├── \u001b[33m68.jpg\u001b[00m\n",
      "│   └── \u001b[33m69.jpg\u001b[00m\n",
      "├── \u001b[34m7\u001b[00m\n",
      "│   ├── \u001b[33m70.jpg\u001b[00m\n",
      "│   ├── \u001b[33m71.jpg\u001b[00m\n",
      "│   ├── \u001b[33m72.jpg\u001b[00m\n",
      "│   ├── \u001b[33m73.jpg\u001b[00m\n",
      "│   ├── \u001b[33m74.jpg\u001b[00m\n",
      "│   ├── \u001b[33m75.jpg\u001b[00m\n",
      "│   ├── \u001b[33m76.jpg\u001b[00m\n",
      "│   ├── \u001b[33m77.jpg\u001b[00m\n",
      "│   ├── \u001b[33m78.jpg\u001b[00m\n",
      "│   └── \u001b[33m79.jpg\u001b[00m\n",
      "├── \u001b[34m8\u001b[00m\n",
      "│   ├── \u001b[33m80.jpg\u001b[00m\n",
      "│   ├── \u001b[33m81.jpg\u001b[00m\n",
      "│   ├── \u001b[33m82.jpg\u001b[00m\n",
      "│   ├── \u001b[33m83.jpg\u001b[00m\n",
      "│   ├── \u001b[33m84.jpg\u001b[00m\n",
      "│   ├── \u001b[33m85.jpg\u001b[00m\n",
      "│   ├── \u001b[33m86.jpg\u001b[00m\n",
      "│   ├── \u001b[33m87.jpg\u001b[00m\n",
      "│   ├── \u001b[33m88.jpg\u001b[00m\n",
      "│   └── \u001b[33m89.jpg\u001b[00m\n",
      "└── \u001b[34m9\u001b[00m\n",
      "    ├── \u001b[33m90.jpg\u001b[00m\n",
      "    ├── \u001b[33m91.jpg\u001b[00m\n",
      "    ├── \u001b[33m92.jpg\u001b[00m\n",
      "    ├── \u001b[33m93.jpg\u001b[00m\n",
      "    ├── \u001b[33m94.jpg\u001b[00m\n",
      "    ├── \u001b[33m95.jpg\u001b[00m\n",
      "    ├── \u001b[33m96.jpg\u001b[00m\n",
      "    ├── \u001b[33m97.jpg\u001b[00m\n",
      "    ├── \u001b[33m98.jpg\u001b[00m\n",
      "    └── \u001b[33m99.jpg\u001b[00m\n",
      "\n",
      "10 directories, 100 files\n"
     ]
    }
   ],
   "source": [
    "!tree fake-dataset"
   ]
  },
  {
   "cell_type": "markdown",
   "metadata": {},
   "source": [
    "Now we'll gulp the dataset"
   ]
  },
  {
   "cell_type": "code",
   "execution_count": 15,
   "metadata": {},
   "outputs": [
    {
     "name": "stdout",
     "output_type": "stream",
     "text": [
      "{'--help': False,\n",
      " '--image_size': '120',\n",
      " '--images_per_chunk': '100',\n",
      " '--num_workers': '1',\n",
      " '--shuffle': True,\n",
      " '--version': False,\n",
      " '<images_directory>': 'fake-dataset/',\n",
      " '<output_directory>': 'fake-dataset-gulp/'}\n"
     ]
    },
    {
     "name": "stderr",
     "output_type": "stream",
     "text": [
      "Chunks finished: 100%|██████████| 1/1 [00:00<00:00,  3.56chunk/s]\n"
     ]
    }
   ],
   "source": [
    "%%bash\n",
    "rm -rf fake-dataset-gulp\n",
    "gulp2_image_folder \\\n",
    "    --images_per_chunk 100 \\\n",
    "    --num_workers 1 \\\n",
    "    --image_size 120 \\\n",
    "    --shuffle \\\n",
    "    fake-dataset/ \\\n",
    "    fake-dataset-gulp/"
   ]
  },
  {
   "cell_type": "markdown",
   "metadata": {},
   "source": [
    "Now we have ingested our images into a gulp directory `fake-dataset-gulp`, let's see what's inside"
   ]
  },
  {
   "cell_type": "code",
   "execution_count": 16,
   "metadata": {},
   "outputs": [
    {
     "name": "stdout",
     "output_type": "stream",
     "text": [
      "\u001b[34mfake-dataset-gulp\u001b[00m\n",
      "├── data_0.gulp\n",
      "├── label2idx.json\n",
      "└── meta_0.gmeta\n",
      "\n",
      "0 directories, 3 files\n"
     ]
    }
   ],
   "source": [
    "!tree fake-dataset-gulp"
   ]
  },
  {
   "cell_type": "markdown",
   "metadata": {},
   "source": [
    "Now we can load data and write a torch dataset class"
   ]
  },
  {
   "cell_type": "code",
   "execution_count": 17,
   "metadata": {},
   "outputs": [],
   "source": [
    "gulp_dir = GulpDirectory('fake-dataset-gulp')"
   ]
  },
  {
   "cell_type": "code",
   "execution_count": 18,
   "metadata": {},
   "outputs": [],
   "source": [
    "class GulpImageDataset:\n",
    "    def __init__(self, gulp_dir: GulpDirectory, transform=None):\n",
    "        self.gulp_dir = gulp_dir\n",
    "        self.transform = transform if transform is not None else lambda x: x\n",
    "        self.example_ids = list(gulp_dir.merged_meta_dict.keys())\n",
    "    \n",
    "    def __getitem__(self, idx):\n",
    "        if isinstance(idx, int):\n",
    "            example_id = self.example_ids[idx]\n",
    "        else:\n",
    "            example_id = idx\n",
    "        imgs, meta = self.gulp_dir[example_id] \n",
    "        return self.transform(imgs[0]), meta\n",
    "    \n",
    "    def __len__(self):\n",
    "        return len(self.gulp_dir.merged_meta_dict)"
   ]
  },
  {
   "cell_type": "code",
   "execution_count": 19,
   "metadata": {},
   "outputs": [
    {
     "name": "stdout",
     "output_type": "stream",
     "text": [
      "100\n"
     ]
    }
   ],
   "source": [
    "dataset = GulpImageDataset(gulp_dir)\n",
    "print(len(dataset))"
   ]
  },
  {
   "cell_type": "code",
   "execution_count": 20,
   "metadata": {},
   "outputs": [
    {
     "data": {
      "text/plain": [
       "((120, 120, 3),\n",
       " {'id': '5-59.jpg', 'label': '5', 'path': 'fake-dataset/5', 'idx': 5})"
      ]
     },
     "execution_count": 20,
     "metadata": {},
     "output_type": "execute_result"
    }
   ],
   "source": [
    "img, meta = dataset[0]\n",
    "img.shape, meta"
   ]
  }
 ],
 "metadata": {
  "kernelspec": {
   "display_name": "Python [conda env:gulpio]",
   "language": "python",
   "name": "conda-env-gulpio-py"
  },
  "language_info": {
   "codemirror_mode": {
    "name": "ipython",
    "version": 3
   },
   "file_extension": ".py",
   "mimetype": "text/x-python",
   "name": "python",
   "nbconvert_exporter": "python",
   "pygments_lexer": "ipython3",
   "version": "3.8.6"
  }
 },
 "nbformat": 4,
 "nbformat_minor": 4
}
